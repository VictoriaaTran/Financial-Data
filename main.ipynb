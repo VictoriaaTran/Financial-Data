{
 "cells": [
  {
   "cell_type": "code",
   "execution_count": 1,
   "id": "d1f0ff25",
   "metadata": {},
   "outputs": [],
   "source": [
    "import pandas as pd\n",
    "import sys\n",
    "import os"
   ]
  },
  {
   "cell_type": "markdown",
   "id": "8eef1b42",
   "metadata": {},
   "source": [
    "## 1. Load Dataset"
   ]
  },
  {
   "cell_type": "code",
   "execution_count": 2,
   "id": "31bec967",
   "metadata": {},
   "outputs": [
    {
     "data": {
      "text/plain": [
       "Index(['customer_id', 'age', 'gender', 'income', 'employment_type',\n",
       "       'credit_score', 'loan_amount', 'loan_term', 'num_delinquencies',\n",
       "       'default'],\n",
       "      dtype='object')"
      ]
     },
     "execution_count": 2,
     "metadata": {},
     "output_type": "execute_result"
    }
   ],
   "source": [
    "DATAPATH = \"Data/loan_data.csv\"\n",
    "\n",
    "df = pd.read_csv(DATAPATH)\n",
    "df.columns"
   ]
  },
  {
   "cell_type": "markdown",
   "id": "31b8e633",
   "metadata": {},
   "source": [
    "The dataset contains customer information regarding their background and financial information including their credit score and associated loans. \n",
    "\n",
    "Default (binary 0 vs 1) where 1 = failed to pay loan when it is due, 0 = paid interest."
   ]
  },
  {
   "cell_type": "code",
   "execution_count": 3,
   "id": "a48602d4",
   "metadata": {},
   "outputs": [
    {
     "data": {
      "application/vnd.microsoft.datawrangler.viewer.v0+json": {
       "columns": [
        {
         "name": "index",
         "rawType": "int64",
         "type": "integer"
        },
        {
         "name": "customer_id",
         "rawType": "object",
         "type": "string"
        },
        {
         "name": "age",
         "rawType": "int64",
         "type": "integer"
        },
        {
         "name": "gender",
         "rawType": "object",
         "type": "string"
        },
        {
         "name": "income",
         "rawType": "int64",
         "type": "integer"
        },
        {
         "name": "employment_type",
         "rawType": "object",
         "type": "string"
        },
        {
         "name": "credit_score",
         "rawType": "int64",
         "type": "integer"
        },
        {
         "name": "loan_amount",
         "rawType": "int64",
         "type": "integer"
        },
        {
         "name": "loan_term",
         "rawType": "int64",
         "type": "integer"
        },
        {
         "name": "num_delinquencies",
         "rawType": "int64",
         "type": "integer"
        },
        {
         "name": "default",
         "rawType": "int64",
         "type": "integer"
        }
       ],
       "ref": "a7eb09c1-15b6-4ee0-892f-e027263b7d94",
       "rows": [
        [
         "0",
         "C00001",
         "59",
         "Female",
         "37880",
         "Self-employed",
         "624",
         "18486",
         "60",
         "0",
         "0"
        ],
        [
         "1",
         "C00002",
         "49",
         "Female",
         "22965",
         "Self-employed",
         "618",
         "4142",
         "60",
         "0",
         "0"
        ],
        [
         "2",
         "C00003",
         "35",
         "Female",
         "51856",
         "Salaried",
         "770",
         "9660",
         "60",
         "2",
         "0"
        ],
        [
         "3",
         "C00004",
         "63",
         "Male",
         "51565",
         "Salaried",
         "619",
         "19513",
         "36",
         "2",
         "0"
        ],
        [
         "4",
         "C00005",
         "28",
         "Male",
         "44771",
         "Unemployed",
         "660",
         "20154",
         "24",
         "0",
         "0"
        ],
        [
         "5",
         "C00006",
         "41",
         "Male",
         "64946",
         "Salaried",
         "680",
         "11471",
         "24",
         "2",
         "0"
        ],
        [
         "6",
         "C00007",
         "59",
         "Female",
         "45557",
         "Unemployed",
         "768",
         "1667",
         "48",
         "0",
         "0"
        ],
        [
         "7",
         "C00008",
         "39",
         "Female",
         "49653",
         "Salaried",
         "614",
         "8213",
         "24",
         "1",
         "0"
        ],
        [
         "8",
         "C00009",
         "43",
         "Male",
         "36409",
         "Salaried",
         "734",
         "13614",
         "36",
         "1",
         "0"
        ],
        [
         "9",
         "C00010",
         "31",
         "Female",
         "15450",
         "Salaried",
         "680",
         "6037",
         "36",
         "0",
         "0"
        ],
        [
         "10",
         "C00011",
         "31",
         "Male",
         "47819",
         "Unemployed",
         "673",
         "21725",
         "24",
         "2",
         "0"
        ],
        [
         "11",
         "C00012",
         "44",
         "Female",
         "45860",
         "Self-employed",
         "678",
         "8823",
         "24",
         "1",
         "0"
        ],
        [
         "12",
         "C00013",
         "56",
         "Female",
         "75648",
         "Self-employed",
         "644",
         "16649",
         "48",
         "2",
         "0"
        ],
        [
         "13",
         "C00014",
         "60",
         "Male",
         "60011",
         "Salaried",
         "659",
         "9397",
         "48",
         "1",
         "0"
        ],
        [
         "14",
         "C00015",
         "44",
         "Male",
         "43803",
         "Salaried",
         "643",
         "11554",
         "24",
         "0",
         "0"
        ],
        [
         "15",
         "C00016",
         "23",
         "Female",
         "52124",
         "Self-employed",
         "614",
         "9989",
         "12",
         "1",
         "0"
        ],
        [
         "16",
         "C00017",
         "42",
         "Male",
         "63605",
         "Salaried",
         "621",
         "7185",
         "48",
         "0",
         "0"
        ],
        [
         "17",
         "C00018",
         "22",
         "Male",
         "57751",
         "Self-employed",
         "739",
         "7996",
         "12",
         "1",
         "0"
        ],
        [
         "18",
         "C00019",
         "44",
         "Female",
         "75033",
         "Self-employed",
         "662",
         "13503",
         "12",
         "0",
         "0"
        ],
        [
         "19",
         "C00020",
         "64",
         "Female",
         "38159",
         "Salaried",
         "713",
         "8942",
         "48",
         "1",
         "0"
        ],
        [
         "20",
         "C00021",
         "50",
         "Female",
         "64625",
         "Self-employed",
         "671",
         "7799",
         "48",
         "1",
         "0"
        ],
        [
         "21",
         "C00022",
         "58",
         "Male",
         "43656",
         "Self-employed",
         "670",
         "13069",
         "24",
         "1",
         "0"
        ],
        [
         "22",
         "C00023",
         "22",
         "Female",
         "52904",
         "Unemployed",
         "676",
         "17647",
         "12",
         "0",
         "1"
        ],
        [
         "23",
         "C00024",
         "41",
         "Female",
         "41634",
         "Salaried",
         "716",
         "18572",
         "12",
         "0",
         "0"
        ],
        [
         "24",
         "C00025",
         "53",
         "Female",
         "47869",
         "Self-employed",
         "645",
         "5025",
         "36",
         "0",
         "0"
        ],
        [
         "25",
         "C00026",
         "32",
         "Female",
         "53173",
         "Salaried",
         "672",
         "6115",
         "36",
         "3",
         "0"
        ],
        [
         "26",
         "C00027",
         "42",
         "Female",
         "58898",
         "Salaried",
         "725",
         "16486",
         "24",
         "1",
         "0"
        ],
        [
         "27",
         "C00028",
         "64",
         "Male",
         "50920",
         "Salaried",
         "734",
         "7529",
         "60",
         "1",
         "0"
        ],
        [
         "28",
         "C00029",
         "45",
         "Female",
         "12707",
         "Salaried",
         "754",
         "8813",
         "36",
         "0",
         "0"
        ],
        [
         "29",
         "C00030",
         "47",
         "Female",
         "48845",
         "Salaried",
         "631",
         "3260",
         "48",
         "2",
         "0"
        ],
        [
         "30",
         "C00031",
         "62",
         "Male",
         "72056",
         "Salaried",
         "648",
         "13587",
         "24",
         "2",
         "0"
        ],
        [
         "31",
         "C00032",
         "48",
         "Female",
         "48726",
         "Self-employed",
         "670",
         "9850",
         "60",
         "1",
         "0"
        ],
        [
         "32",
         "C00033",
         "36",
         "Female",
         "72477",
         "Salaried",
         "614",
         "15309",
         "48",
         "0",
         "0"
        ],
        [
         "33",
         "C00034",
         "35",
         "Male",
         "48197",
         "Salaried",
         "723",
         "14021",
         "24",
         "1",
         "0"
        ],
        [
         "34",
         "C00035",
         "64",
         "Female",
         "26420",
         "Salaried",
         "694",
         "15262",
         "12",
         "0",
         "0"
        ],
        [
         "35",
         "C00036",
         "23",
         "Male",
         "43505",
         "Salaried",
         "672",
         "15322",
         "24",
         "1",
         "0"
        ],
        [
         "36",
         "C00037",
         "57",
         "Female",
         "41623",
         "Salaried",
         "731",
         "8066",
         "36",
         "2",
         "0"
        ],
        [
         "37",
         "C00038",
         "27",
         "Male",
         "46557",
         "Salaried",
         "642",
         "9932",
         "12",
         "0",
         "0"
        ],
        [
         "38",
         "C00039",
         "41",
         "Male",
         "32220",
         "Self-employed",
         "736",
         "11022",
         "12",
         "1",
         "0"
        ],
        [
         "39",
         "C00040",
         "29",
         "Female",
         "49867",
         "Self-employed",
         "767",
         "10538",
         "12",
         "0",
         "0"
        ],
        [
         "40",
         "C00041",
         "59",
         "Male",
         "45076",
         "Salaried",
         "695",
         "13436",
         "48",
         "1",
         "0"
        ],
        [
         "41",
         "C00042",
         "38",
         "Male",
         "69317",
         "Salaried",
         "679",
         "7693",
         "36",
         "1",
         "0"
        ],
        [
         "42",
         "C00043",
         "24",
         "Female",
         "31846",
         "Salaried",
         "688",
         "11575",
         "24",
         "2",
         "1"
        ],
        [
         "43",
         "C00044",
         "45",
         "Female",
         "53685",
         "Salaried",
         "610",
         "7115",
         "24",
         "2",
         "0"
        ],
        [
         "44",
         "C00045",
         "34",
         "Male",
         "56165",
         "Salaried",
         "670",
         "11268",
         "36",
         "1",
         "1"
        ],
        [
         "45",
         "C00046",
         "29",
         "Female",
         "61624",
         "Self-employed",
         "782",
         "11834",
         "36",
         "0",
         "0"
        ],
        [
         "46",
         "C00047",
         "46",
         "Male",
         "44546",
         "Salaried",
         "786",
         "4109",
         "36",
         "2",
         "0"
        ],
        [
         "47",
         "C00048",
         "22",
         "Male",
         "53312",
         "Self-employed",
         "684",
         "11770",
         "48",
         "2",
         "1"
        ],
        [
         "48",
         "C00049",
         "40",
         "Female",
         "55299",
         "Salaried",
         "652",
         "16825",
         "36",
         "0",
         "0"
        ],
        [
         "49",
         "C00050",
         "48",
         "Female",
         "25274",
         "Salaried",
         "731",
         "15332",
         "36",
         "3",
         "0"
        ]
       ],
       "shape": {
        "columns": 10,
        "rows": 10000
       }
      },
      "text/html": [
       "<div>\n",
       "<style scoped>\n",
       "    .dataframe tbody tr th:only-of-type {\n",
       "        vertical-align: middle;\n",
       "    }\n",
       "\n",
       "    .dataframe tbody tr th {\n",
       "        vertical-align: top;\n",
       "    }\n",
       "\n",
       "    .dataframe thead th {\n",
       "        text-align: right;\n",
       "    }\n",
       "</style>\n",
       "<table border=\"1\" class=\"dataframe\">\n",
       "  <thead>\n",
       "    <tr style=\"text-align: right;\">\n",
       "      <th></th>\n",
       "      <th>customer_id</th>\n",
       "      <th>age</th>\n",
       "      <th>gender</th>\n",
       "      <th>income</th>\n",
       "      <th>employment_type</th>\n",
       "      <th>credit_score</th>\n",
       "      <th>loan_amount</th>\n",
       "      <th>loan_term</th>\n",
       "      <th>num_delinquencies</th>\n",
       "      <th>default</th>\n",
       "    </tr>\n",
       "  </thead>\n",
       "  <tbody>\n",
       "    <tr>\n",
       "      <th>0</th>\n",
       "      <td>C00001</td>\n",
       "      <td>59</td>\n",
       "      <td>Female</td>\n",
       "      <td>37880</td>\n",
       "      <td>Self-employed</td>\n",
       "      <td>624</td>\n",
       "      <td>18486</td>\n",
       "      <td>60</td>\n",
       "      <td>0</td>\n",
       "      <td>0</td>\n",
       "    </tr>\n",
       "    <tr>\n",
       "      <th>1</th>\n",
       "      <td>C00002</td>\n",
       "      <td>49</td>\n",
       "      <td>Female</td>\n",
       "      <td>22965</td>\n",
       "      <td>Self-employed</td>\n",
       "      <td>618</td>\n",
       "      <td>4142</td>\n",
       "      <td>60</td>\n",
       "      <td>0</td>\n",
       "      <td>0</td>\n",
       "    </tr>\n",
       "    <tr>\n",
       "      <th>2</th>\n",
       "      <td>C00003</td>\n",
       "      <td>35</td>\n",
       "      <td>Female</td>\n",
       "      <td>51856</td>\n",
       "      <td>Salaried</td>\n",
       "      <td>770</td>\n",
       "      <td>9660</td>\n",
       "      <td>60</td>\n",
       "      <td>2</td>\n",
       "      <td>0</td>\n",
       "    </tr>\n",
       "    <tr>\n",
       "      <th>3</th>\n",
       "      <td>C00004</td>\n",
       "      <td>63</td>\n",
       "      <td>Male</td>\n",
       "      <td>51565</td>\n",
       "      <td>Salaried</td>\n",
       "      <td>619</td>\n",
       "      <td>19513</td>\n",
       "      <td>36</td>\n",
       "      <td>2</td>\n",
       "      <td>0</td>\n",
       "    </tr>\n",
       "    <tr>\n",
       "      <th>4</th>\n",
       "      <td>C00005</td>\n",
       "      <td>28</td>\n",
       "      <td>Male</td>\n",
       "      <td>44771</td>\n",
       "      <td>Unemployed</td>\n",
       "      <td>660</td>\n",
       "      <td>20154</td>\n",
       "      <td>24</td>\n",
       "      <td>0</td>\n",
       "      <td>0</td>\n",
       "    </tr>\n",
       "    <tr>\n",
       "      <th>...</th>\n",
       "      <td>...</td>\n",
       "      <td>...</td>\n",
       "      <td>...</td>\n",
       "      <td>...</td>\n",
       "      <td>...</td>\n",
       "      <td>...</td>\n",
       "      <td>...</td>\n",
       "      <td>...</td>\n",
       "      <td>...</td>\n",
       "      <td>...</td>\n",
       "    </tr>\n",
       "    <tr>\n",
       "      <th>9995</th>\n",
       "      <td>C09996</td>\n",
       "      <td>29</td>\n",
       "      <td>Male</td>\n",
       "      <td>58641</td>\n",
       "      <td>Salaried</td>\n",
       "      <td>712</td>\n",
       "      <td>15500</td>\n",
       "      <td>36</td>\n",
       "      <td>0</td>\n",
       "      <td>0</td>\n",
       "    </tr>\n",
       "    <tr>\n",
       "      <th>9996</th>\n",
       "      <td>C09997</td>\n",
       "      <td>37</td>\n",
       "      <td>Male</td>\n",
       "      <td>40758</td>\n",
       "      <td>Salaried</td>\n",
       "      <td>783</td>\n",
       "      <td>7690</td>\n",
       "      <td>36</td>\n",
       "      <td>2</td>\n",
       "      <td>0</td>\n",
       "    </tr>\n",
       "    <tr>\n",
       "      <th>9997</th>\n",
       "      <td>C09998</td>\n",
       "      <td>56</td>\n",
       "      <td>Male</td>\n",
       "      <td>78882</td>\n",
       "      <td>Self-employed</td>\n",
       "      <td>749</td>\n",
       "      <td>16465</td>\n",
       "      <td>36</td>\n",
       "      <td>0</td>\n",
       "      <td>0</td>\n",
       "    </tr>\n",
       "    <tr>\n",
       "      <th>9998</th>\n",
       "      <td>C09999</td>\n",
       "      <td>37</td>\n",
       "      <td>Female</td>\n",
       "      <td>60081</td>\n",
       "      <td>Unemployed</td>\n",
       "      <td>658</td>\n",
       "      <td>4920</td>\n",
       "      <td>36</td>\n",
       "      <td>1</td>\n",
       "      <td>0</td>\n",
       "    </tr>\n",
       "    <tr>\n",
       "      <th>9999</th>\n",
       "      <td>C10000</td>\n",
       "      <td>32</td>\n",
       "      <td>Male</td>\n",
       "      <td>43627</td>\n",
       "      <td>Salaried</td>\n",
       "      <td>675</td>\n",
       "      <td>13813</td>\n",
       "      <td>36</td>\n",
       "      <td>2</td>\n",
       "      <td>0</td>\n",
       "    </tr>\n",
       "  </tbody>\n",
       "</table>\n",
       "<p>10000 rows × 10 columns</p>\n",
       "</div>"
      ],
      "text/plain": [
       "     customer_id  age  gender  income employment_type  credit_score  \\\n",
       "0         C00001   59  Female   37880   Self-employed           624   \n",
       "1         C00002   49  Female   22965   Self-employed           618   \n",
       "2         C00003   35  Female   51856        Salaried           770   \n",
       "3         C00004   63    Male   51565        Salaried           619   \n",
       "4         C00005   28    Male   44771      Unemployed           660   \n",
       "...          ...  ...     ...     ...             ...           ...   \n",
       "9995      C09996   29    Male   58641        Salaried           712   \n",
       "9996      C09997   37    Male   40758        Salaried           783   \n",
       "9997      C09998   56    Male   78882   Self-employed           749   \n",
       "9998      C09999   37  Female   60081      Unemployed           658   \n",
       "9999      C10000   32    Male   43627        Salaried           675   \n",
       "\n",
       "      loan_amount  loan_term  num_delinquencies  default  \n",
       "0           18486         60                  0        0  \n",
       "1            4142         60                  0        0  \n",
       "2            9660         60                  2        0  \n",
       "3           19513         36                  2        0  \n",
       "4           20154         24                  0        0  \n",
       "...           ...        ...                ...      ...  \n",
       "9995        15500         36                  0        0  \n",
       "9996         7690         36                  2        0  \n",
       "9997        16465         36                  0        0  \n",
       "9998         4920         36                  1        0  \n",
       "9999        13813         36                  2        0  \n",
       "\n",
       "[10000 rows x 10 columns]"
      ]
     },
     "execution_count": 3,
     "metadata": {},
     "output_type": "execute_result"
    }
   ],
   "source": [
    "df"
   ]
  },
  {
   "cell_type": "code",
   "execution_count": 4,
   "id": "ca8cca20",
   "metadata": {},
   "outputs": [
    {
     "data": {
      "application/vnd.microsoft.datawrangler.viewer.v0+json": {
       "columns": [
        {
         "name": "index",
         "rawType": "object",
         "type": "string"
        },
        {
         "name": "0",
         "rawType": "object",
         "type": "unknown"
        }
       ],
       "ref": "31020b02-41b6-42fb-85d7-fe69d3586d88",
       "rows": [
        [
         "customer_id",
         "object"
        ],
        [
         "age",
         "int64"
        ],
        [
         "gender",
         "object"
        ],
        [
         "income",
         "int64"
        ],
        [
         "employment_type",
         "object"
        ],
        [
         "credit_score",
         "int64"
        ],
        [
         "loan_amount",
         "int64"
        ],
        [
         "loan_term",
         "int64"
        ],
        [
         "num_delinquencies",
         "int64"
        ],
        [
         "default",
         "int64"
        ]
       ],
       "shape": {
        "columns": 1,
        "rows": 10
       }
      },
      "text/plain": [
       "customer_id          object\n",
       "age                   int64\n",
       "gender               object\n",
       "income                int64\n",
       "employment_type      object\n",
       "credit_score          int64\n",
       "loan_amount           int64\n",
       "loan_term             int64\n",
       "num_delinquencies     int64\n",
       "default               int64\n",
       "dtype: object"
      ]
     },
     "execution_count": 4,
     "metadata": {},
     "output_type": "execute_result"
    }
   ],
   "source": [
    "df.dtypes"
   ]
  },
  {
   "cell_type": "markdown",
   "id": "5a64264d",
   "metadata": {},
   "source": [
    "#### Glimps at data"
   ]
  },
  {
   "cell_type": "code",
   "execution_count": 5,
   "id": "0cb19e4d",
   "metadata": {},
   "outputs": [
    {
     "data": {
      "application/vnd.microsoft.datawrangler.viewer.v0+json": {
       "columns": [
        {
         "name": "gender",
         "rawType": "object",
         "type": "string"
        },
        {
         "name": "count",
         "rawType": "int64",
         "type": "integer"
        }
       ],
       "ref": "0d30b26a-ec64-4ff8-8338-25f7d2c83d93",
       "rows": [
        [
         "Female",
         "5005"
        ],
        [
         "Male",
         "4995"
        ]
       ],
       "shape": {
        "columns": 1,
        "rows": 2
       }
      },
      "text/plain": [
       "gender\n",
       "Female    5005\n",
       "Male      4995\n",
       "Name: count, dtype: int64"
      ]
     },
     "execution_count": 5,
     "metadata": {},
     "output_type": "execute_result"
    }
   ],
   "source": [
    "df['gender'].value_counts()"
   ]
  },
  {
   "cell_type": "code",
   "execution_count": 6,
   "id": "6ad92e0f",
   "metadata": {},
   "outputs": [
    {
     "data": {
      "application/vnd.microsoft.datawrangler.viewer.v0+json": {
       "columns": [
        {
         "name": "employment_type",
         "rawType": "object",
         "type": "string"
        },
        {
         "name": "count",
         "rawType": "int64",
         "type": "integer"
        }
       ],
       "ref": "7b7d1559-edfe-4cd3-af3a-5004762acf29",
       "rows": [
        [
         "Salaried",
         "5956"
        ],
        [
         "Self-employed",
         "3059"
        ],
        [
         "Unemployed",
         "985"
        ]
       ],
       "shape": {
        "columns": 1,
        "rows": 3
       }
      },
      "text/plain": [
       "employment_type\n",
       "Salaried         5956\n",
       "Self-employed    3059\n",
       "Unemployed        985\n",
       "Name: count, dtype: int64"
      ]
     },
     "execution_count": 6,
     "metadata": {},
     "output_type": "execute_result"
    }
   ],
   "source": [
    "df['employment_type'].value_counts()"
   ]
  },
  {
   "cell_type": "markdown",
   "id": "e7ebbd97",
   "metadata": {},
   "source": [
    "There are few object data types containing categories such as gender and employment_type. \n",
    "\n",
    "Gender = F vs. M\n",
    "\n",
    "Employment_type = Salaried vs. Self-employed vs. Unemployed"
   ]
  },
  {
   "cell_type": "markdown",
   "id": "e8624ea7",
   "metadata": {},
   "source": [
    "Checking for missing data"
   ]
  },
  {
   "cell_type": "code",
   "execution_count": 9,
   "id": "283077a1",
   "metadata": {},
   "outputs": [
    {
     "data": {
      "application/vnd.microsoft.datawrangler.viewer.v0+json": {
       "columns": [
        {
         "name": "index",
         "rawType": "object",
         "type": "string"
        },
        {
         "name": "0",
         "rawType": "int64",
         "type": "integer"
        }
       ],
       "ref": "fdc943b2-16c1-4285-abdc-45f9c53ce3fe",
       "rows": [
        [
         "customer_id",
         "0"
        ],
        [
         "age",
         "0"
        ],
        [
         "gender",
         "0"
        ],
        [
         "income",
         "0"
        ],
        [
         "employment_type",
         "0"
        ],
        [
         "credit_score",
         "0"
        ],
        [
         "loan_amount",
         "0"
        ],
        [
         "loan_term",
         "0"
        ],
        [
         "num_delinquencies",
         "0"
        ],
        [
         "default",
         "0"
        ],
        [
         "credit_rank",
         "0"
        ]
       ],
       "shape": {
        "columns": 1,
        "rows": 11
       }
      },
      "text/plain": [
       "customer_id          0\n",
       "age                  0\n",
       "gender               0\n",
       "income               0\n",
       "employment_type      0\n",
       "credit_score         0\n",
       "loan_amount          0\n",
       "loan_term            0\n",
       "num_delinquencies    0\n",
       "default              0\n",
       "credit_rank          0\n",
       "dtype: int64"
      ]
     },
     "execution_count": 9,
     "metadata": {},
     "output_type": "execute_result"
    }
   ],
   "source": [
    "df.isna().sum()"
   ]
  },
  {
   "cell_type": "markdown",
   "id": "b89a964d",
   "metadata": {},
   "source": [
    "Descriptive stats about the data with integer values"
   ]
  },
  {
   "cell_type": "code",
   "execution_count": 10,
   "id": "7e3da8b8",
   "metadata": {},
   "outputs": [
    {
     "data": {
      "application/vnd.microsoft.datawrangler.viewer.v0+json": {
       "columns": [
        {
         "name": "index",
         "rawType": "object",
         "type": "string"
        },
        {
         "name": "age",
         "rawType": "float64",
         "type": "float"
        },
        {
         "name": "income",
         "rawType": "float64",
         "type": "float"
        },
        {
         "name": "credit_score",
         "rawType": "float64",
         "type": "float"
        },
        {
         "name": "loan_amount",
         "rawType": "float64",
         "type": "float"
        },
        {
         "name": "loan_term",
         "rawType": "float64",
         "type": "float"
        },
        {
         "name": "num_delinquencies",
         "rawType": "float64",
         "type": "float"
        },
        {
         "name": "default",
         "rawType": "float64",
         "type": "float"
        }
       ],
       "ref": "9bc325a4-711a-4348-a78f-03ef0e3b7e9f",
       "rows": [
        [
         "count",
         "10000.0",
         "10000.0",
         "10000.0",
         "10000.0",
         "10000.0",
         "10000.0",
         "10000.0"
        ],
        [
         "mean",
         "42.4903",
         "49960.914",
         "679.5128",
         "10136.3257",
         "36.1644",
         "0.9977",
         "0.082"
        ],
        [
         "std",
         "12.578375390436806",
         "14944.63833177942",
         "49.77803352305254",
         "4870.921073167744",
         "13.248098876910046",
         "0.9925690048167596",
         "0.27437844002915984"
        ],
        [
         "min",
         "21.0",
         "-1297.0",
         "499.0",
         "1000.0",
         "12.0",
         "0.0",
         "0.0"
        ],
        [
         "25%",
         "32.0",
         "39825.5",
         "646.0",
         "6691.75",
         "24.0",
         "0.0",
         "0.0"
        ],
        [
         "50%",
         "42.5",
         "49914.0",
         "679.0",
         "10037.5",
         "36.0",
         "1.0",
         "0.0"
        ],
        [
         "75%",
         "53.0",
         "60011.25",
         "713.0",
         "13440.5",
         "48.0",
         "2.0",
         "0.0"
        ],
        [
         "max",
         "64.0",
         "112218.0",
         "884.0",
         "27376.0",
         "60.0",
         "7.0",
         "1.0"
        ]
       ],
       "shape": {
        "columns": 7,
        "rows": 8
       }
      },
      "text/html": [
       "<div>\n",
       "<style scoped>\n",
       "    .dataframe tbody tr th:only-of-type {\n",
       "        vertical-align: middle;\n",
       "    }\n",
       "\n",
       "    .dataframe tbody tr th {\n",
       "        vertical-align: top;\n",
       "    }\n",
       "\n",
       "    .dataframe thead th {\n",
       "        text-align: right;\n",
       "    }\n",
       "</style>\n",
       "<table border=\"1\" class=\"dataframe\">\n",
       "  <thead>\n",
       "    <tr style=\"text-align: right;\">\n",
       "      <th></th>\n",
       "      <th>age</th>\n",
       "      <th>income</th>\n",
       "      <th>credit_score</th>\n",
       "      <th>loan_amount</th>\n",
       "      <th>loan_term</th>\n",
       "      <th>num_delinquencies</th>\n",
       "      <th>default</th>\n",
       "    </tr>\n",
       "  </thead>\n",
       "  <tbody>\n",
       "    <tr>\n",
       "      <th>count</th>\n",
       "      <td>10000.000000</td>\n",
       "      <td>10000.000000</td>\n",
       "      <td>10000.000000</td>\n",
       "      <td>10000.000000</td>\n",
       "      <td>10000.000000</td>\n",
       "      <td>10000.000000</td>\n",
       "      <td>10000.000000</td>\n",
       "    </tr>\n",
       "    <tr>\n",
       "      <th>mean</th>\n",
       "      <td>42.490300</td>\n",
       "      <td>49960.914000</td>\n",
       "      <td>679.512800</td>\n",
       "      <td>10136.325700</td>\n",
       "      <td>36.164400</td>\n",
       "      <td>0.997700</td>\n",
       "      <td>0.082000</td>\n",
       "    </tr>\n",
       "    <tr>\n",
       "      <th>std</th>\n",
       "      <td>12.578375</td>\n",
       "      <td>14944.638332</td>\n",
       "      <td>49.778034</td>\n",
       "      <td>4870.921073</td>\n",
       "      <td>13.248099</td>\n",
       "      <td>0.992569</td>\n",
       "      <td>0.274378</td>\n",
       "    </tr>\n",
       "    <tr>\n",
       "      <th>min</th>\n",
       "      <td>21.000000</td>\n",
       "      <td>-1297.000000</td>\n",
       "      <td>499.000000</td>\n",
       "      <td>1000.000000</td>\n",
       "      <td>12.000000</td>\n",
       "      <td>0.000000</td>\n",
       "      <td>0.000000</td>\n",
       "    </tr>\n",
       "    <tr>\n",
       "      <th>25%</th>\n",
       "      <td>32.000000</td>\n",
       "      <td>39825.500000</td>\n",
       "      <td>646.000000</td>\n",
       "      <td>6691.750000</td>\n",
       "      <td>24.000000</td>\n",
       "      <td>0.000000</td>\n",
       "      <td>0.000000</td>\n",
       "    </tr>\n",
       "    <tr>\n",
       "      <th>50%</th>\n",
       "      <td>42.500000</td>\n",
       "      <td>49914.000000</td>\n",
       "      <td>679.000000</td>\n",
       "      <td>10037.500000</td>\n",
       "      <td>36.000000</td>\n",
       "      <td>1.000000</td>\n",
       "      <td>0.000000</td>\n",
       "    </tr>\n",
       "    <tr>\n",
       "      <th>75%</th>\n",
       "      <td>53.000000</td>\n",
       "      <td>60011.250000</td>\n",
       "      <td>713.000000</td>\n",
       "      <td>13440.500000</td>\n",
       "      <td>48.000000</td>\n",
       "      <td>2.000000</td>\n",
       "      <td>0.000000</td>\n",
       "    </tr>\n",
       "    <tr>\n",
       "      <th>max</th>\n",
       "      <td>64.000000</td>\n",
       "      <td>112218.000000</td>\n",
       "      <td>884.000000</td>\n",
       "      <td>27376.000000</td>\n",
       "      <td>60.000000</td>\n",
       "      <td>7.000000</td>\n",
       "      <td>1.000000</td>\n",
       "    </tr>\n",
       "  </tbody>\n",
       "</table>\n",
       "</div>"
      ],
      "text/plain": [
       "                age         income  credit_score   loan_amount     loan_term  \\\n",
       "count  10000.000000   10000.000000  10000.000000  10000.000000  10000.000000   \n",
       "mean      42.490300   49960.914000    679.512800  10136.325700     36.164400   \n",
       "std       12.578375   14944.638332     49.778034   4870.921073     13.248099   \n",
       "min       21.000000   -1297.000000    499.000000   1000.000000     12.000000   \n",
       "25%       32.000000   39825.500000    646.000000   6691.750000     24.000000   \n",
       "50%       42.500000   49914.000000    679.000000  10037.500000     36.000000   \n",
       "75%       53.000000   60011.250000    713.000000  13440.500000     48.000000   \n",
       "max       64.000000  112218.000000    884.000000  27376.000000     60.000000   \n",
       "\n",
       "       num_delinquencies       default  \n",
       "count       10000.000000  10000.000000  \n",
       "mean            0.997700      0.082000  \n",
       "std             0.992569      0.274378  \n",
       "min             0.000000      0.000000  \n",
       "25%             0.000000      0.000000  \n",
       "50%             1.000000      0.000000  \n",
       "75%             2.000000      0.000000  \n",
       "max             7.000000      1.000000  "
      ]
     },
     "execution_count": 10,
     "metadata": {},
     "output_type": "execute_result"
    }
   ],
   "source": [
    "df.describe(include=[int])"
   ]
  },
  {
   "cell_type": "markdown",
   "id": "728d5c6e",
   "metadata": {},
   "source": [
    "## 2. Data Preprocessing"
   ]
  },
  {
   "cell_type": "markdown",
   "id": "6d88e53f",
   "metadata": {},
   "source": [
    "#### 2a. Segmentation"
   ]
  },
  {
   "cell_type": "code",
   "execution_count": 11,
   "id": "271c6772",
   "metadata": {},
   "outputs": [
    {
     "data": {
      "application/vnd.microsoft.datawrangler.viewer.v0+json": {
       "columns": [
        {
         "name": "index",
         "rawType": "int64",
         "type": "integer"
        },
        {
         "name": "customer_id",
         "rawType": "object",
         "type": "string"
        },
        {
         "name": "age",
         "rawType": "int64",
         "type": "integer"
        },
        {
         "name": "gender",
         "rawType": "object",
         "type": "string"
        },
        {
         "name": "income",
         "rawType": "int64",
         "type": "integer"
        },
        {
         "name": "employment_type",
         "rawType": "object",
         "type": "string"
        },
        {
         "name": "credit_score",
         "rawType": "int64",
         "type": "integer"
        },
        {
         "name": "loan_amount",
         "rawType": "int64",
         "type": "integer"
        },
        {
         "name": "loan_term",
         "rawType": "int64",
         "type": "integer"
        },
        {
         "name": "num_delinquencies",
         "rawType": "int64",
         "type": "integer"
        },
        {
         "name": "default",
         "rawType": "int64",
         "type": "integer"
        },
        {
         "name": "credit_rank",
         "rawType": "category",
         "type": "unknown"
        }
       ],
       "ref": "3079b393-4099-4cb1-b327-a9c7710fe4b2",
       "rows": [
        [
         "0",
         "C00001",
         "59",
         "Female",
         "37880",
         "Self-employed",
         "624",
         "18486",
         "60",
         "0",
         "0",
         "4"
        ],
        [
         "1",
         "C00002",
         "49",
         "Female",
         "22965",
         "Self-employed",
         "618",
         "4142",
         "60",
         "0",
         "0",
         "4"
        ],
        [
         "2",
         "C00003",
         "35",
         "Female",
         "51856",
         "Salaried",
         "770",
         "9660",
         "60",
         "2",
         "0",
         "2"
        ],
        [
         "3",
         "C00004",
         "63",
         "Male",
         "51565",
         "Salaried",
         "619",
         "19513",
         "36",
         "2",
         "0",
         "4"
        ],
        [
         "4",
         "C00005",
         "28",
         "Male",
         "44771",
         "Unemployed",
         "660",
         "20154",
         "24",
         "0",
         "0",
         "3"
        ],
        [
         "5",
         "C00006",
         "41",
         "Male",
         "64946",
         "Salaried",
         "680",
         "11471",
         "24",
         "2",
         "0",
         "3"
        ],
        [
         "6",
         "C00007",
         "59",
         "Female",
         "45557",
         "Unemployed",
         "768",
         "1667",
         "48",
         "0",
         "0",
         "2"
        ],
        [
         "7",
         "C00008",
         "39",
         "Female",
         "49653",
         "Salaried",
         "614",
         "8213",
         "24",
         "1",
         "0",
         "4"
        ],
        [
         "8",
         "C00009",
         "43",
         "Male",
         "36409",
         "Salaried",
         "734",
         "13614",
         "36",
         "1",
         "0",
         "2"
        ],
        [
         "9",
         "C00010",
         "31",
         "Female",
         "15450",
         "Salaried",
         "680",
         "6037",
         "36",
         "0",
         "0",
         "3"
        ],
        [
         "10",
         "C00011",
         "31",
         "Male",
         "47819",
         "Unemployed",
         "673",
         "21725",
         "24",
         "2",
         "0",
         "3"
        ],
        [
         "11",
         "C00012",
         "44",
         "Female",
         "45860",
         "Self-employed",
         "678",
         "8823",
         "24",
         "1",
         "0",
         "3"
        ],
        [
         "12",
         "C00013",
         "56",
         "Female",
         "75648",
         "Self-employed",
         "644",
         "16649",
         "48",
         "2",
         "0",
         "4"
        ],
        [
         "13",
         "C00014",
         "60",
         "Male",
         "60011",
         "Salaried",
         "659",
         "9397",
         "48",
         "1",
         "0",
         "3"
        ],
        [
         "14",
         "C00015",
         "44",
         "Male",
         "43803",
         "Salaried",
         "643",
         "11554",
         "24",
         "0",
         "0",
         "4"
        ],
        [
         "15",
         "C00016",
         "23",
         "Female",
         "52124",
         "Self-employed",
         "614",
         "9989",
         "12",
         "1",
         "0",
         "4"
        ],
        [
         "16",
         "C00017",
         "42",
         "Male",
         "63605",
         "Salaried",
         "621",
         "7185",
         "48",
         "0",
         "0",
         "4"
        ],
        [
         "17",
         "C00018",
         "22",
         "Male",
         "57751",
         "Self-employed",
         "739",
         "7996",
         "12",
         "1",
         "0",
         "2"
        ],
        [
         "18",
         "C00019",
         "44",
         "Female",
         "75033",
         "Self-employed",
         "662",
         "13503",
         "12",
         "0",
         "0",
         "3"
        ],
        [
         "19",
         "C00020",
         "64",
         "Female",
         "38159",
         "Salaried",
         "713",
         "8942",
         "48",
         "1",
         "0",
         "3"
        ],
        [
         "20",
         "C00021",
         "50",
         "Female",
         "64625",
         "Self-employed",
         "671",
         "7799",
         "48",
         "1",
         "0",
         "3"
        ],
        [
         "21",
         "C00022",
         "58",
         "Male",
         "43656",
         "Self-employed",
         "670",
         "13069",
         "24",
         "1",
         "0",
         "3"
        ],
        [
         "22",
         "C00023",
         "22",
         "Female",
         "52904",
         "Unemployed",
         "676",
         "17647",
         "12",
         "0",
         "1",
         "3"
        ],
        [
         "23",
         "C00024",
         "41",
         "Female",
         "41634",
         "Salaried",
         "716",
         "18572",
         "12",
         "0",
         "0",
         "3"
        ],
        [
         "24",
         "C00025",
         "53",
         "Female",
         "47869",
         "Self-employed",
         "645",
         "5025",
         "36",
         "0",
         "0",
         "4"
        ],
        [
         "25",
         "C00026",
         "32",
         "Female",
         "53173",
         "Salaried",
         "672",
         "6115",
         "36",
         "3",
         "0",
         "3"
        ],
        [
         "26",
         "C00027",
         "42",
         "Female",
         "58898",
         "Salaried",
         "725",
         "16486",
         "24",
         "1",
         "0",
         "3"
        ],
        [
         "27",
         "C00028",
         "64",
         "Male",
         "50920",
         "Salaried",
         "734",
         "7529",
         "60",
         "1",
         "0",
         "2"
        ],
        [
         "28",
         "C00029",
         "45",
         "Female",
         "12707",
         "Salaried",
         "754",
         "8813",
         "36",
         "0",
         "0",
         "2"
        ],
        [
         "29",
         "C00030",
         "47",
         "Female",
         "48845",
         "Salaried",
         "631",
         "3260",
         "48",
         "2",
         "0",
         "4"
        ],
        [
         "30",
         "C00031",
         "62",
         "Male",
         "72056",
         "Salaried",
         "648",
         "13587",
         "24",
         "2",
         "0",
         "4"
        ],
        [
         "31",
         "C00032",
         "48",
         "Female",
         "48726",
         "Self-employed",
         "670",
         "9850",
         "60",
         "1",
         "0",
         "3"
        ],
        [
         "32",
         "C00033",
         "36",
         "Female",
         "72477",
         "Salaried",
         "614",
         "15309",
         "48",
         "0",
         "0",
         "4"
        ],
        [
         "33",
         "C00034",
         "35",
         "Male",
         "48197",
         "Salaried",
         "723",
         "14021",
         "24",
         "1",
         "0",
         "3"
        ],
        [
         "34",
         "C00035",
         "64",
         "Female",
         "26420",
         "Salaried",
         "694",
         "15262",
         "12",
         "0",
         "0",
         "3"
        ],
        [
         "35",
         "C00036",
         "23",
         "Male",
         "43505",
         "Salaried",
         "672",
         "15322",
         "24",
         "1",
         "0",
         "3"
        ],
        [
         "36",
         "C00037",
         "57",
         "Female",
         "41623",
         "Salaried",
         "731",
         "8066",
         "36",
         "2",
         "0",
         "2"
        ],
        [
         "37",
         "C00038",
         "27",
         "Male",
         "46557",
         "Salaried",
         "642",
         "9932",
         "12",
         "0",
         "0",
         "4"
        ],
        [
         "38",
         "C00039",
         "41",
         "Male",
         "32220",
         "Self-employed",
         "736",
         "11022",
         "12",
         "1",
         "0",
         "2"
        ],
        [
         "39",
         "C00040",
         "29",
         "Female",
         "49867",
         "Self-employed",
         "767",
         "10538",
         "12",
         "0",
         "0",
         "2"
        ],
        [
         "40",
         "C00041",
         "59",
         "Male",
         "45076",
         "Salaried",
         "695",
         "13436",
         "48",
         "1",
         "0",
         "3"
        ],
        [
         "41",
         "C00042",
         "38",
         "Male",
         "69317",
         "Salaried",
         "679",
         "7693",
         "36",
         "1",
         "0",
         "3"
        ],
        [
         "42",
         "C00043",
         "24",
         "Female",
         "31846",
         "Salaried",
         "688",
         "11575",
         "24",
         "2",
         "1",
         "3"
        ],
        [
         "43",
         "C00044",
         "45",
         "Female",
         "53685",
         "Salaried",
         "610",
         "7115",
         "24",
         "2",
         "0",
         "4"
        ],
        [
         "44",
         "C00045",
         "34",
         "Male",
         "56165",
         "Salaried",
         "670",
         "11268",
         "36",
         "1",
         "1",
         "3"
        ],
        [
         "45",
         "C00046",
         "29",
         "Female",
         "61624",
         "Self-employed",
         "782",
         "11834",
         "36",
         "0",
         "0",
         "2"
        ],
        [
         "46",
         "C00047",
         "46",
         "Male",
         "44546",
         "Salaried",
         "786",
         "4109",
         "36",
         "2",
         "0",
         "2"
        ],
        [
         "47",
         "C00048",
         "22",
         "Male",
         "53312",
         "Self-employed",
         "684",
         "11770",
         "48",
         "2",
         "1",
         "3"
        ],
        [
         "48",
         "C00049",
         "40",
         "Female",
         "55299",
         "Salaried",
         "652",
         "16825",
         "36",
         "0",
         "0",
         "4"
        ],
        [
         "49",
         "C00050",
         "48",
         "Female",
         "25274",
         "Salaried",
         "731",
         "15332",
         "36",
         "3",
         "0",
         "2"
        ]
       ],
       "shape": {
        "columns": 11,
        "rows": 10000
       }
      },
      "text/html": [
       "<div>\n",
       "<style scoped>\n",
       "    .dataframe tbody tr th:only-of-type {\n",
       "        vertical-align: middle;\n",
       "    }\n",
       "\n",
       "    .dataframe tbody tr th {\n",
       "        vertical-align: top;\n",
       "    }\n",
       "\n",
       "    .dataframe thead th {\n",
       "        text-align: right;\n",
       "    }\n",
       "</style>\n",
       "<table border=\"1\" class=\"dataframe\">\n",
       "  <thead>\n",
       "    <tr style=\"text-align: right;\">\n",
       "      <th></th>\n",
       "      <th>customer_id</th>\n",
       "      <th>age</th>\n",
       "      <th>gender</th>\n",
       "      <th>income</th>\n",
       "      <th>employment_type</th>\n",
       "      <th>credit_score</th>\n",
       "      <th>loan_amount</th>\n",
       "      <th>loan_term</th>\n",
       "      <th>num_delinquencies</th>\n",
       "      <th>default</th>\n",
       "      <th>credit_rank</th>\n",
       "    </tr>\n",
       "  </thead>\n",
       "  <tbody>\n",
       "    <tr>\n",
       "      <th>0</th>\n",
       "      <td>C00001</td>\n",
       "      <td>59</td>\n",
       "      <td>Female</td>\n",
       "      <td>37880</td>\n",
       "      <td>Self-employed</td>\n",
       "      <td>624</td>\n",
       "      <td>18486</td>\n",
       "      <td>60</td>\n",
       "      <td>0</td>\n",
       "      <td>0</td>\n",
       "      <td>4</td>\n",
       "    </tr>\n",
       "    <tr>\n",
       "      <th>1</th>\n",
       "      <td>C00002</td>\n",
       "      <td>49</td>\n",
       "      <td>Female</td>\n",
       "      <td>22965</td>\n",
       "      <td>Self-employed</td>\n",
       "      <td>618</td>\n",
       "      <td>4142</td>\n",
       "      <td>60</td>\n",
       "      <td>0</td>\n",
       "      <td>0</td>\n",
       "      <td>4</td>\n",
       "    </tr>\n",
       "    <tr>\n",
       "      <th>2</th>\n",
       "      <td>C00003</td>\n",
       "      <td>35</td>\n",
       "      <td>Female</td>\n",
       "      <td>51856</td>\n",
       "      <td>Salaried</td>\n",
       "      <td>770</td>\n",
       "      <td>9660</td>\n",
       "      <td>60</td>\n",
       "      <td>2</td>\n",
       "      <td>0</td>\n",
       "      <td>2</td>\n",
       "    </tr>\n",
       "    <tr>\n",
       "      <th>3</th>\n",
       "      <td>C00004</td>\n",
       "      <td>63</td>\n",
       "      <td>Male</td>\n",
       "      <td>51565</td>\n",
       "      <td>Salaried</td>\n",
       "      <td>619</td>\n",
       "      <td>19513</td>\n",
       "      <td>36</td>\n",
       "      <td>2</td>\n",
       "      <td>0</td>\n",
       "      <td>4</td>\n",
       "    </tr>\n",
       "    <tr>\n",
       "      <th>4</th>\n",
       "      <td>C00005</td>\n",
       "      <td>28</td>\n",
       "      <td>Male</td>\n",
       "      <td>44771</td>\n",
       "      <td>Unemployed</td>\n",
       "      <td>660</td>\n",
       "      <td>20154</td>\n",
       "      <td>24</td>\n",
       "      <td>0</td>\n",
       "      <td>0</td>\n",
       "      <td>3</td>\n",
       "    </tr>\n",
       "    <tr>\n",
       "      <th>...</th>\n",
       "      <td>...</td>\n",
       "      <td>...</td>\n",
       "      <td>...</td>\n",
       "      <td>...</td>\n",
       "      <td>...</td>\n",
       "      <td>...</td>\n",
       "      <td>...</td>\n",
       "      <td>...</td>\n",
       "      <td>...</td>\n",
       "      <td>...</td>\n",
       "      <td>...</td>\n",
       "    </tr>\n",
       "    <tr>\n",
       "      <th>9995</th>\n",
       "      <td>C09996</td>\n",
       "      <td>29</td>\n",
       "      <td>Male</td>\n",
       "      <td>58641</td>\n",
       "      <td>Salaried</td>\n",
       "      <td>712</td>\n",
       "      <td>15500</td>\n",
       "      <td>36</td>\n",
       "      <td>0</td>\n",
       "      <td>0</td>\n",
       "      <td>3</td>\n",
       "    </tr>\n",
       "    <tr>\n",
       "      <th>9996</th>\n",
       "      <td>C09997</td>\n",
       "      <td>37</td>\n",
       "      <td>Male</td>\n",
       "      <td>40758</td>\n",
       "      <td>Salaried</td>\n",
       "      <td>783</td>\n",
       "      <td>7690</td>\n",
       "      <td>36</td>\n",
       "      <td>2</td>\n",
       "      <td>0</td>\n",
       "      <td>2</td>\n",
       "    </tr>\n",
       "    <tr>\n",
       "      <th>9997</th>\n",
       "      <td>C09998</td>\n",
       "      <td>56</td>\n",
       "      <td>Male</td>\n",
       "      <td>78882</td>\n",
       "      <td>Self-employed</td>\n",
       "      <td>749</td>\n",
       "      <td>16465</td>\n",
       "      <td>36</td>\n",
       "      <td>0</td>\n",
       "      <td>0</td>\n",
       "      <td>2</td>\n",
       "    </tr>\n",
       "    <tr>\n",
       "      <th>9998</th>\n",
       "      <td>C09999</td>\n",
       "      <td>37</td>\n",
       "      <td>Female</td>\n",
       "      <td>60081</td>\n",
       "      <td>Unemployed</td>\n",
       "      <td>658</td>\n",
       "      <td>4920</td>\n",
       "      <td>36</td>\n",
       "      <td>1</td>\n",
       "      <td>0</td>\n",
       "      <td>3</td>\n",
       "    </tr>\n",
       "    <tr>\n",
       "      <th>9999</th>\n",
       "      <td>C10000</td>\n",
       "      <td>32</td>\n",
       "      <td>Male</td>\n",
       "      <td>43627</td>\n",
       "      <td>Salaried</td>\n",
       "      <td>675</td>\n",
       "      <td>13813</td>\n",
       "      <td>36</td>\n",
       "      <td>2</td>\n",
       "      <td>0</td>\n",
       "      <td>3</td>\n",
       "    </tr>\n",
       "  </tbody>\n",
       "</table>\n",
       "<p>10000 rows × 11 columns</p>\n",
       "</div>"
      ],
      "text/plain": [
       "     customer_id  age  gender  income employment_type  credit_score  \\\n",
       "0         C00001   59  Female   37880   Self-employed           624   \n",
       "1         C00002   49  Female   22965   Self-employed           618   \n",
       "2         C00003   35  Female   51856        Salaried           770   \n",
       "3         C00004   63    Male   51565        Salaried           619   \n",
       "4         C00005   28    Male   44771      Unemployed           660   \n",
       "...          ...  ...     ...     ...             ...           ...   \n",
       "9995      C09996   29    Male   58641        Salaried           712   \n",
       "9996      C09997   37    Male   40758        Salaried           783   \n",
       "9997      C09998   56    Male   78882   Self-employed           749   \n",
       "9998      C09999   37  Female   60081      Unemployed           658   \n",
       "9999      C10000   32    Male   43627        Salaried           675   \n",
       "\n",
       "      loan_amount  loan_term  num_delinquencies  default credit_rank  \n",
       "0           18486         60                  0        0           4  \n",
       "1            4142         60                  0        0           4  \n",
       "2            9660         60                  2        0           2  \n",
       "3           19513         36                  2        0           4  \n",
       "4           20154         24                  0        0           3  \n",
       "...           ...        ...                ...      ...         ...  \n",
       "9995        15500         36                  0        0           3  \n",
       "9996         7690         36                  2        0           2  \n",
       "9997        16465         36                  0        0           2  \n",
       "9998         4920         36                  1        0           3  \n",
       "9999        13813         36                  2        0           3  \n",
       "\n",
       "[10000 rows x 11 columns]"
      ]
     },
     "execution_count": 11,
     "metadata": {},
     "output_type": "execute_result"
    }
   ],
   "source": [
    "#credit score bins divided into ranking\n",
    "credit_score_bin = [300, 579, 580, 669, 670, 739, 740, 799, 800, 900]\n",
    "df['credit_rank'] = pd.cut(df['credit_score'], bins=5, labels=[5, 4, 3, 2, 1])\n",
    "df"
   ]
  },
  {
   "cell_type": "markdown",
   "id": "72fc19b6",
   "metadata": {},
   "source": [
    "Common FICO scores bin:\n",
    "\n",
    "Exceptional/Excellent (1): 800-850 | Very Good (2): 740-799 | Good (3): 670-739 | Fair (4): 580-669 | Poor (5): 300-579 \n",
    "\n",
    "ranking 1 - 5. where 1 is highest and 5 is lowest"
   ]
  },
  {
   "cell_type": "markdown",
   "id": "417ffb66",
   "metadata": {},
   "source": [
    "## 3. Exploratory Data Analysis (EDA)"
   ]
  },
  {
   "cell_type": "markdown",
   "id": "7efc9988",
   "metadata": {},
   "source": [
    "Find patterns that related to Default"
   ]
  }
 ],
 "metadata": {
  "kernelspec": {
   "display_name": "Python 3",
   "language": "python",
   "name": "python3"
  },
  "language_info": {
   "codemirror_mode": {
    "name": "ipython",
    "version": 3
   },
   "file_extension": ".py",
   "mimetype": "text/x-python",
   "name": "python",
   "nbconvert_exporter": "python",
   "pygments_lexer": "ipython3",
   "version": "3.12.1"
  }
 },
 "nbformat": 4,
 "nbformat_minor": 5
}
